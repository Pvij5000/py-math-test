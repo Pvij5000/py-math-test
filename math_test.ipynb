{
 "cells": [
  {
   "cell_type": "code",
   "execution_count": 1,
   "id": "3ddbdcf2",
   "metadata": {},
   "outputs": [],
   "source": [
    "import random      # business logic needs it, we have written our building blocks"
   ]
  },
  {
   "cell_type": "code",
   "execution_count": 2,
   "id": "66e3d2d1",
   "metadata": {},
   "outputs": [],
   "source": [
    "def get_random_nums():\n",
    "    a = random.randint(1, 10)\n",
    "    b = random.randint(1, 10)\n",
    "    return (a, b)"
   ]
  },
  {
   "cell_type": "code",
   "execution_count": 3,
   "id": "0ae7ea06",
   "metadata": {},
   "outputs": [],
   "source": [
    "def modulo_test_question(a, b):\n",
    "    answer = a % b\n",
    "    question = f\"{a} % {b} = \"\n",
    "    return (question, answer)"
   ]
  },
  {
   "cell_type": "code",
   "execution_count": 4,
   "id": "2c17e495",
   "metadata": {},
   "outputs": [],
   "source": [
    "def floor_division_test_question(a, b):\n",
    "    answer = a // b\n",
    "    question = f\"{a} // {b} =  \"\n",
    "    return(question, answer)"
   ]
  },
  {
   "cell_type": "code",
   "execution_count": 5,
   "id": "b8a624b7",
   "metadata": {},
   "outputs": [],
   "source": [
    "def ask_question(question, answer):\n",
    "    user_answer = input(question)\n",
    "    right_or_wrong = str(answer) == user_answer\n",
    "    return right_or_wrong"
   ]
  },
  {
   "cell_type": "code",
   "execution_count": 6,
   "id": "f6874ff5",
   "metadata": {},
   "outputs": [],
   "source": [
    "# a,b = get_random_nums()\n",
    "# question, answer = modulo_test_question(a, b)# every time we want to ask a question use this form\n",
    "# ask_question(question, answer)"
   ]
  },
  {
   "cell_type": "code",
   "execution_count": 7,
   "id": "619c72ba",
   "metadata": {},
   "outputs": [],
   "source": [
    "def proctor_question(question_function):\n",
    "    a,b = get_random_nums()\n",
    "    question, answer = question_function(a, b)\n",
    "    right_or_wrong = ask_question(question, answer)\n",
    "    return right_or_wrong"
   ]
  },
  {
   "cell_type": "code",
   "execution_count": 8,
   "id": "39f10bcd",
   "metadata": {},
   "outputs": [],
   "source": [
    "# proctor_question(modulo_test_question)"
   ]
  },
  {
   "cell_type": "code",
   "execution_count": 9,
   "id": "f20aedd3",
   "metadata": {},
   "outputs": [
    {
     "name": "stdout",
     "output_type": "stream",
     "text": [
      "test type(%, //)%\n",
      "9 % 4 = 1\n",
      "9 % 9 = 0\n",
      "10 % 8 = 2\n",
      "7 % 4 = 3\n",
      "3 % 5 = 3\n",
      "go again (y,n)?)n\n",
      "100.0\n"
     ]
    }
   ],
   "source": [
    "user_playing = True\n",
    "# ToDo: functionalize this\n",
    "test_type = input(\"test type(%, //)\")\n",
    "question_counter = 0\n",
    "correct_counter = 0\n",
    "while user_playing:\n",
    "    for i in range(5):\n",
    "        question_counter += 1\n",
    "        if test_type == \"%\":\n",
    "            question_function = modulo_test_question\n",
    "        elif test_type == \"//\":\n",
    "            question_function = floor_division_test_question\n",
    "        right_or_wrong = proctor_question(question_function)\n",
    "        if right_or_wrong:\n",
    "            correct_counter += 1\n",
    "            \n",
    "    go_again = input(\"go again (y,n)?)\")\n",
    "    if go_again == \"n\":\n",
    "        user_playing = False\n",
    "else:\n",
    "    print(correct_counter/question_counter * 100)\n",
    "        "
   ]
  },
  {
   "cell_type": "code",
   "execution_count": null,
   "id": "136ca81d",
   "metadata": {},
   "outputs": [],
   "source": []
  },
  {
   "cell_type": "code",
   "execution_count": null,
   "id": "a6e07301",
   "metadata": {},
   "outputs": [],
   "source": []
  }
 ],
 "metadata": {
  "kernelspec": {
   "display_name": "Python 3 (ipykernel)",
   "language": "python",
   "name": "python3"
  },
  "language_info": {
   "codemirror_mode": {
    "name": "ipython",
    "version": 3
   },
   "file_extension": ".py",
   "mimetype": "text/x-python",
   "name": "python",
   "nbconvert_exporter": "python",
   "pygments_lexer": "ipython3",
   "version": "3.7.9"
  }
 },
 "nbformat": 4,
 "nbformat_minor": 5
}
